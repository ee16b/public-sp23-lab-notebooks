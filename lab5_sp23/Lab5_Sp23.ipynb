{
 "cells": [
  {
   "cell_type": "markdown",
   "metadata": {},
   "source": [
    "# Lab 5: Sensing Part 2\n",
    "### EECS 16B: Designing Information Devices and Systems II, Spring 2023\n",
    "\n",
    "Updated by Mia Mirkovic (2020)\n",
    "\n",
    "Updated by Rafael Calleja (2021)\n",
    "\n",
    "Updated by Steven Lu, Kaitlyn Chan (2021)\n",
    "\n",
    "Updated by Steven Lu (2022)\n",
    "\n",
    "Updated by Megan Zeng, Mingyang Wang, and Shrey Aeron (2022)\n",
    "\n",
    "Updated by Megan Zeng (2023)"
   ]
  },
  {
   "cell_type": "markdown",
   "metadata": {},
   "source": [
    "## Table of Contents\n",
    "\n",
    "* [Part 0: Before you Begin](#part0)\n",
    "* [Part 1: A Treble-some Color Organ](#part1)\n",
    "* [Part 2: Notch Filter](#part2)\n",
    "* [Part 3: Checkoff](#checkoff)\n",
    "* [Part 4: Midterm Lab Report Questions](#part4)\n"
   ]
  },
  {
   "cell_type": "markdown",
   "metadata": {},
   "source": [
    "# <span style=\"color:navy\">Introduction</span>\n",
    "-----\n",
    "Now that we've built the micboard circuitry, we can convert your voice into an electrical signal for the Arduino to read and work with. In the previous lab, we added a filter to pass through frequencies corresponding to human speech for later phases of the project. In this week's lab, we will further filter other frequencies in order to create a \"color organ\"."
   ]
  },
  {
   "attachments": {},
   "cell_type": "markdown",
   "metadata": {},
   "source": [
    "## Lab Note\n",
    "* [Lab Note](https://eecs16b.org/lab/notes/lab_note5.pdf)\n",
    "\n",
    "Review the lab note. The lab note provides a technical review of the concepts covered in lab as well as theoretical connections. **You should read the lab notes before your lab section.** They serve as a review and will be helpful as a reference during section.\n"
   ]
  },
  {
   "attachments": {},
   "cell_type": "markdown",
   "metadata": {},
   "source": [
    "## Pre-Lab\n",
    "\n",
    "Complete the pre-lab assignment before doing the lab. Submit your answers to the Gradescope assignment \"[\\[Lab\\] Pre-Lab 5: Sensing Part 2](https://www.gradescope.com/courses/484565/assignments/2702640).\" Please make sure that you submit to the correct assignment. Pre-Lab 5 is due on **Sunday, March 5 at 11:59pm**. No late submissions will be accepted.\n",
    "\n",
    "## Help Request Form\n",
    "Use this [form](https://eecs16b.org/lab-help) to request help in your debugging / conceptual needs."
   ]
  },
  {
   "cell_type": "markdown",
   "metadata": {},
   "source": [
    "<a id='part0'></a>\n",
    "# <span style=\"color:navy\">Part 0: Before you Begin</span>\n",
    "-----\n",
    "### 0.1. Frequency Response of Speaker-Mic Board System\n",
    "Before we begin the lab, please copy over `freq_Vpp` into the code block below. This was the dictionary of values for the speaker-microphone frequency response that you recorded in Lab 4. We will use this to analyze the frequency response of our joint speaker-microphone and filter system."
   ]
  },
  {
   "cell_type": "code",
   "execution_count": null,
   "metadata": {},
   "outputs": [],
   "source": [
    "import numpy as np\n",
    "import matplotlib.pyplot as plt\n",
    "from pylab import * \n",
    "%matplotlib inline"
   ]
  },
  {
   "cell_type": "code",
   "execution_count": null,
   "metadata": {},
   "outputs": [],
   "source": [
    "# TODO: Copy your values into freq_Vpp from lab 4\n",
    "freq_Vpp = {\n",
    "    100: None,\n",
    "    200: None, \n",
    "    300: None, \n",
    "    500: None, \n",
    "    800: None, \n",
    "    1000: None, \n",
    "    1250: None, \n",
    "    1750: None, \n",
    "    2000: None,  \n",
    "    3000: None, \n",
    "    4000: None, \n",
    "    5000: None, \n",
    "    6000: None, \n",
    "    7000: None, \n",
    "    8000: None,\n",
    "    10000: None,\n",
    "    15000: None\n",
    "}\n",
    "freq = sorted(list(freq_Vpp.keys()))\n",
    "assert len(freq) == 17, \"Ensure that you didn't remove any of the frequences :pandacop:\"\n",
    "\n",
    "Vpp = [freq_Vpp[f] for f in freq] \n",
    "print(\"Vpp = \", Vpp)\n",
    "\n",
    "# We do not have a measurable input signal Vin, so we normalize the maximum of the frequency response to 1.\n",
    "gain = np.array(Vpp)/max(Vpp)\n",
    "\n",
    "plt.loglog(freq, gain)\n",
    "plt.title('log-Gain vs. log-Frequency')\n",
    "plt.xlabel('Frequency (Hz)')\n",
    "plt.ylabel('Gain (Volts/Volts)')\n",
    "plt.show()"
   ]
  },
  {
   "cell_type": "markdown",
   "metadata": {},
   "source": [
    "### 0.2. Tune Your Mic Board\n",
    "#### Materials:\n",
    "- Speaker (phone, laptop, etc.)\n",
    "\n",
    "Before every lab that uses the mic board, you will need to retune the mic board in case the potentiometer was bumped or otherwise rotated from its \"tuned\" position. An abridged version of the micboard tuning steps from Lab 4 is shown below."
   ]
  },
  {
   "cell_type": "markdown",
   "metadata": {},
   "source": [
    "\n",
    "#### Tasks:\n",
    "1. Power your regulator with 9V using the +25V channel on your DC power supply. Make sure to set the current limit to 0.1A! **DO NOT plug in your batteries**\n",
    "\n",
    "2. Connect your oscilloscope probe to $V_{out}$ on your mic board. Add a **peak-to-peak** and **frequency** measurement to the oscilloscope.\n",
    "\n",
    "3.  **Play a pure tone using a [tone generator](https://www.szynalski.com/tone-generator/) in the range (1500 - 2000 Hz)** on your phone at a reasonable volume (leaning towards the soft side). Do NOT use a Youtube video!\n",
    "\n",
    "4. Turn the potentiometer on the mic board **(CW: decrease amplitude | CCW: increase amplitude)** using a screwdriver (or your student ID card) until you see a sine wave with a **peak-to-peak of around 1.5V to 2V** on the oscilloscope.\n",
    "    - If you tuned your micboard previously, you shouldn't need to turn the potentiometer a significant amount.\n",
    "\n",
    "5. **Verify that the frequency of the measured sine wave matches the tone from your phone, and that the sine wave is centered at around 2.5V.**"
   ]
  },
  {
   "cell_type": "markdown",
   "metadata": {},
   "source": [
    "## Project Breadboard Layout\n",
    "At this point, your breadboard should contain all of the components in the project breadboard layout. In this lab, you will be building a notch filter and a high-pass filter but removing them after checkoff, so **make sure you have enough unallocated space available for this lab**.\n",
    "\n",
    "<img width=\"700px\" src=\"images/suggested_layout.jpg\">\n",
    "\n",
    "<img width=\"500px\" src=\"images/color_organ.png\">"
   ]
  },
  {
   "cell_type": "markdown",
   "metadata": {},
   "source": [
    "<a id='part1'></a>\n",
    "# <span style=\"color:navy\">Part 1: A Treble-some Color Organ</span>\n",
    "\n",
    "-----\n",
    "The frequency range for the mic board is more than just the lower frequencies, so in this part, we will be building a high-pass filter to pass frequencies higher than 6000 - 8000 Hz."
   ]
  },
  {
   "cell_type": "markdown",
   "metadata": {},
   "source": [
    "#### Materials\n",
    "- Capacitors\n",
    "- Resistors\n",
    "- Speaker\n",
    "- Oscilloscope probes\n",
    "\n",
    "## Tasks\n",
    "\n",
    "### 1.1. Design and Build the High-Pass Filter Circuit\n",
    "\n",
    "1. Recall the circuit diagram and cutoff frequency equation $f_c$ for a first-order high pass RC filter.\n",
    "\n",
    "2. Choose values for $R$ and $C$ such that your cutoff frequency $f_c$ is roughly 6-8 kHz. (Like the low pass filter, being within a few hundred Hz is fine.)\n",
    "    \n",
    "3. Record your values for $R$ and $C$ in the code below. Write code to calculate $f_c$ given your values for $R$ and $C$.\n",
    "\n",
    "4. Build the high-pass filter in an empty spot on your breadboard (you will be removing it after checkoff, so feel free to build it in any open spot).\n",
    "    - <span style=\"color:red\"> **NOTE: Instead of connecting the end of the resistor to ground, connect it to the `Half Rail`, as shown below.**</span>\n",
    "    \n",
    "<img style=\"width:250px\" src=\"images/high_pass_alone.png\">\n",
    "\n",
    "#### Notes/Tips:\n",
    " \n",
    "- Since we have far more resistor values than we have capacitor values, start by choosing an easy capacitor value. Pick one that that lets you choose resistors of at least $1k\\Omega$."
   ]
  },
  {
   "cell_type": "code",
   "execution_count": null,
   "metadata": {},
   "outputs": [],
   "source": [
    "### YOUR CODE HERE\n",
    "R = ...\n",
    "C = ...\n",
    "f_c = ...\n",
    "\n",
    "print(\"High pass filter\")\n",
    "print(\"================\")\n",
    "print(\"Resistor: {} ohms\".format(R))\n",
    "print(\"Capacitor: {} farads\".format(C))\n",
    "print(\"Cutoff frequency: {} Hz\".format(f_c))"
   ]
  },
  {
   "cell_type": "markdown",
   "metadata": {},
   "source": [
    "### 1.2. Test the High-Pass Filter\n",
    "\n",
    "Similar to the low-pass filter, we'll test the high-pass filter with the function generator.\n",
    "\n",
    "1. Set your function generator to output a sinusoid with a 2.5V offset, 1V peak-to-peak voltage, and the frequency as the cutoff frequency of your high pass filter. \n",
    "2. Connect the function generator to the input of your high pass filter.\n",
    "3. Probe the output of your high pass with your oscilloscope. Ensure the gain/attentuation at the cutoff frequency is what you expect.\n",
    "4. Additionally try outputting a very low frequency and very high frequency, and see if the output changes as expected."
   ]
  },
  {
   "cell_type": "markdown",
   "metadata": {},
   "source": [
    "### 1.3. Plot the Frequency Response of the High-Pass-Filtered Mic Board\n",
    "1. After verifying the high-pass filter's functionality, connect the filter's input to the mic board's output. **Make sure that the high-pass filter is no longer connected to the function generator!**\n",
    "2. Probe the output of your filter with your oscilloscope.\n",
    "\n",
    "Fill in your cutoff frequency for your high pass filter in the cell below and run it to plot the frequency response of an ideal high-pass filter. "
   ]
  },
  {
   "cell_type": "code",
   "execution_count": null,
   "metadata": {},
   "outputs": [],
   "source": [
    "### TODO: Enter your high-pass cutoff frequency below inside the float() call. \n",
    "high_cutoff = float() #TODO\n",
    "\n",
    "hp_p2p_expected =  (np.array(freq)/high_cutoff)/(np.sqrt(1 + (np.array(freq)/high_cutoff)**2))\n",
    "\n",
    "plt.xlabel(\"Frequency (Hz)\")\n",
    "plt.ylabel(\"Output Voltage/Input Voltage\")\n",
    "plt.title(\"Frequency vs Gain (High-Pass)\")\n",
    "plt.plot(freq, hp_p2p_expected)\n",
    "plt.show()\n",
    "\n",
    "plt.xlabel(\"Frequency (Hz)\")\n",
    "plt.ylabel(\"Output Voltage/Input Voltage\")\n",
    "plt.title(\"log-Frequency vs log-Gain (High-Pass)\")\n",
    "plt.loglog(freq, hp_p2p_expected)\n",
    "plt.show()"
   ]
  },
  {
   "cell_type": "markdown",
   "metadata": {},
   "source": [
    "Next, probe the output of your high-pass filter. For the given frequencies in `hp_freq_Vpp`, measure and record the peak-to-peak voltage values."
   ]
  },
  {
   "cell_type": "code",
   "execution_count": null,
   "metadata": {},
   "outputs": [],
   "source": [
    "# Record the amplitude of the output sinusoid at each given frequency. \n",
    "# Fill in your values here and replace the \"None\"s with your measured voltage values\n",
    "hp_freq_Vpp = {\n",
    "    3000: None,\n",
    "    8000: None,\n",
    "    10000: None,\n",
    "    13000: None\n",
    "}\n",
    "hp_freqs = sorted(list(hp_freq_Vpp.keys()))\n",
    "hp_p2p_observed = [hp_freq_Vpp[f] for f in hp_freqs]\n",
    "\n",
    "hp_gain_observed = np.array(hp_p2p_observed)/np.max(hp_p2p_observed)\n",
    "\n",
    "plt.xlabel(\"Frequency (Hz)\")\n",
    "plt.ylabel(\"Output Voltage/Input Voltage\")\n",
    "plt.title(\"Frequency vs Gain (High Pass)\")\n",
    "plt.plot(freq, hp_p2p_expected)\n",
    "plt.scatter(hp_freqs, hp_gain_observed)\n",
    "plt.show()\n",
    "\n",
    "plt.xlabel(\"Frequency (Hz)\")\n",
    "plt.ylabel(\"Output Voltage/Input Voltage\")\n",
    "plt.title(\"log-Frequency vs log-Gain (High Pass)\")\n",
    "plt.loglog(freq, hp_p2p_expected)\n",
    "plt.scatter(hp_freqs, hp_gain_observed)\n",
    "plt.show()"
   ]
  },
  {
   "cell_type": "markdown",
   "metadata": {},
   "source": [
    "Now, we will multiply the high-pass filter frequency response (hp_p2p_expected) with our speaker-mic board frequency response (the variable called gain). Run the script below to plot the resulting frequency response."
   ]
  },
  {
   "cell_type": "code",
   "execution_count": null,
   "metadata": {
    "scrolled": false
   },
   "outputs": [],
   "source": [
    "response_hp_micboard = np.multiply(hp_p2p_expected, gain)\n",
    "\n",
    "plt.xlabel(\"Frequency (Hz)\")\n",
    "plt.ylabel(\"Output Voltage/Input Voltage\")\n",
    "plt.title(\"Frequency vs Gain (High pass filtered Micboard)\")\n",
    "plt.plot(freq, response_hp_micboard, label=\"HP Expected\")\n",
    "plt.scatter(hp_freqs, hp_p2p_observed, label=\"HP observed\")\n",
    "plt.legend()\n",
    "plt.show()\n",
    "\n",
    "plt.xlabel(\"Frequency (Hz)\")\n",
    "plt.ylabel(\"Output Voltage/Input Voltage\")\n",
    "plt.title(\"log-Frequency vs log-Gain (High pass filtered Micboard)\")\n",
    "plt.loglog(freq, response_hp_micboard)\n",
    "plt.scatter(hp_freqs, hp_p2p_observed)\n",
    "plt.legend()\n",
    "plt.show()"
   ]
  },
  {
   "cell_type": "markdown",
   "metadata": {},
   "source": [
    "### 1.4. Amplify the High-Pass-Filtered Mic Board\n",
    "1. Similarly to the low-pass filter from Lab 4, connect the output of the high-pass filter to a non-inverting amplifier/buffer depending on whether you need more gain. If you are using a non-inverting amplifier, make sure to use resistor values of $\\geq 1k \\Omega$ and to use a virtual ground of `HALF_RAIL`.\n",
    "2. Connect the output of your amplifier to a 10 $\\Omega$ resistor and LED in series.\n",
    "\n",
    "At this point, both the low-pass and high-pass filters should be fully built. Is the behavior of the two LEDs what you would expect?"
   ]
  },
  {
   "cell_type": "markdown",
   "metadata": {},
   "source": [
    "<a id='part2'></a>\n",
    "# <span style=\"color:navy\">Part 2: Notch Filter</span>\n",
    "\n",
    "-----\n",
    "In this part, we will be building a notch filter to pass all frequencies except for a frequency of your choice. In the real world, this can be used to reject a narrow range of undesired frequencies, such as powerline noise."
   ]
  },
  {
   "attachments": {},
   "cell_type": "markdown",
   "metadata": {},
   "source": [
    "#### Materials\n",
    "- 1x 3.3 mH inductor\n",
    "- Capacitors\n",
    "- 1x 10 $\\Omega$ resistor\n",
    "- 1x 51 $\\Omega$ resistor\n",
    "- 1x 100 $\\Omega$ resistor\n",
    "- Speaker\n",
    "- Oscilloscope probes\n",
    "- Function generator probes\n",
    "\n",
    "**The inductors are new this semester! As a result, we have a limited supply of them and will be lending them out from the TA desk. We will be asking you to return them after checkoff.**\n",
    "\n",
    "## Tasks\n",
    "\n",
    "### 2.1. Design and Build the Notch Filter Circuit\n",
    "1. Recall the circuit diagram and notch frequency equation $f_c$ for a series RLC notch filter.\n",
    "2. Since $L$ is 3.3 mH, choose $C$ such that your notch frequency $f_c$ is in the range 500-5000 Hz. Choose a notch frequency based on the shape of your speaker-mic board frequency response; you don't want the notch to occur where the gain from the speaker-mic board system is low.\n",
    "3. Using the resistors from the materials, build the notch filter using $L$ and $C$ values you calculated above (leave a space to build the resistor). You may build the notch filter in any empty spot on your breadboard – you will be removing it after checkoff.\n",
    "<img style=\"width:200px\" src=\"images/notch_alone.png\">\n",
    "4. Set your function generator to output a sinusoid with a 2.5V offset and 1V peak-to-peak voltage, which will be the input to your filter. Prepare to measure the output of your filter with an oscilloscope.\n",
    "5. We still have not forgotten about $R$! For $R=10\\Omega, 51\\Omega, 100\\Omega$, test the filter by sweeping across a range of frequencies including the notch frequency."
   ]
  },
  {
   "cell_type": "markdown",
   "metadata": {},
   "source": [
    "<span style=\"color:#075a04\"> **Compare the notch filter's behavior across different values of $R$. What could explain the discrepancies? Calculate the Q factor for each value of $R$.**</span>"
   ]
  },
  {
   "cell_type": "markdown",
   "metadata": {},
   "source": [
    "|<div style=\"width:50px\">$R$</div>|Q factor|\n",
    "|---|---|\n",
    "|10 $\\Omega$||\n",
    "|51 $\\Omega$||\n",
    "|100 $\\Omega$||\n",
    "\n",
    "`YOUR ANSWER HERE`"
   ]
  },
  {
   "cell_type": "markdown",
   "metadata": {},
   "source": [
    "6. From your tests above, select a value of $R$. Record $R$ along with your previous values of $L$ and $C$ below. Write code to calculate $f_c$ given your values for $R$, $L$, and $C$."
   ]
  },
  {
   "cell_type": "code",
   "execution_count": null,
   "metadata": {},
   "outputs": [],
   "source": [
    "### YOUR CODE HERE\n",
    "R = ...\n",
    "L = ...\n",
    "C = ...\n",
    "f_c = ...\n",
    "\n",
    "print(\"Notch filter\")\n",
    "print(\"================\")\n",
    "print(\"Resistor: {} ohms\".format(R))\n",
    "print(\"Inductor: {} henries\".format(L))\n",
    "print(\"Capacitor: {} farads\".format(C))\n",
    "print(\"Notch frequency: {} Hz\".format(f_c))"
   ]
  },
  {
   "cell_type": "markdown",
   "metadata": {},
   "source": [
    "### 2.2. Plot the Frequency Response of the Notch-Filtered Mic Board\n",
    "1. Connect the filter's input to the mic board's output. **Make sure that the notch filter is no longer connected to the function generator!**\n",
    "2. Probe the output of your filter with your oscilloscope.\n",
    "\n",
    "Fill in your notch frequency for your notch filter in the cell below and run it to plot the frequency response of an ideal notch filter. "
   ]
  },
  {
   "cell_type": "code",
   "execution_count": null,
   "metadata": {},
   "outputs": [],
   "source": [
    "### TODO: Enter your notch frequency below inside the float() call. \n",
    "notch_freq = float() #TODO\n",
    "\n",
    "notch_p2p_expected = np.abs(np.array(freq)-notch_freq**2/np.array(freq))/(np.sqrt((R/L)**2 + (np.array(freq)-notch_freq**2/np.array(freq))**2))\n",
    "\n",
    "plt.xlabel(\"Frequency (Hz)\")\n",
    "plt.ylabel(\"Output Voltage/Input Voltage\")\n",
    "plt.title(\"Frequency vs Gain (Notch)\")\n",
    "plt.plot(freq, notch_p2p_expected)\n",
    "plt.show()\n",
    "\n",
    "plt.xlabel(\"Frequency (Hz)\")\n",
    "plt.ylabel(\"Output Voltage/Input Voltage\")\n",
    "plt.title(\"log-Frequency vs log-Gain (Notch)\")\n",
    "plt.loglog(freq, notch_p2p_expected)\n",
    "plt.show()"
   ]
  },
  {
   "cell_type": "markdown",
   "metadata": {},
   "source": [
    "Next, probe the output of your notch filter. Pick 5-6 frequencies that demonstrate your notch filter's frequency response at key points (ex. notch frequency, nearby frequencies, further frequencies). In `notch_freq_Vpp`, measure and record the peak-to-peak voltage values."
   ]
  },
  {
   "cell_type": "code",
   "execution_count": null,
   "metadata": {},
   "outputs": [],
   "source": [
    "# Record the amplitude of the output sinusoid at each given frequency. \n",
    "# Fill in your values here and replace the \"None\"s with your measured voltage values\n",
    "notch_freq_Vpp = {\n",
    "    ...: None,\n",
    "    ...: None,\n",
    "    ...: None,\n",
    "    ...: None,\n",
    "    ...: None,\n",
    "    ...: None\n",
    "}\n",
    "notch_freqs = sorted(list(notch_freq_Vpp.keys()))\n",
    "notch_p2p_observed = [notch_freq_Vpp[f] for f in notch_freqs]\n",
    "\n",
    "notch_gain_observed = np.array(notch_p2p_observed)/np.max(notch_p2p_observed)\n",
    "\n",
    "plt.xlabel(\"Frequency (Hz)\")\n",
    "plt.ylabel(\"Output Voltage/Input Voltage\")\n",
    "plt.title(\"Frequency vs Gain (Notch)\")\n",
    "plt.plot(freq, notch_p2p_expected)\n",
    "plt.scatter(notch_freqs, notch_gain_observed)\n",
    "plt.show()\n",
    "\n",
    "plt.xlabel(\"Frequency (Hz)\")\n",
    "plt.ylabel(\"Output Voltage/Input Voltage\")\n",
    "plt.title(\"log-Frequency vs log-Gain (Notch)\")\n",
    "plt.loglog(freq, notch_p2p_expected)\n",
    "plt.scatter(notch_freqs, notch_gain_observed)\n",
    "plt.show()"
   ]
  },
  {
   "cell_type": "markdown",
   "metadata": {},
   "source": [
    "Now, we will multiply the notch filter frequency response (notch_p2p_expected) with our speaker-mic board frequency response (the variable called gain). Run the script below to plot the resulting frequency response."
   ]
  },
  {
   "cell_type": "code",
   "execution_count": null,
   "metadata": {},
   "outputs": [],
   "source": [
    "response_notch_micboard = np.multiply(notch_p2p_expected, gain)\n",
    "\n",
    "plt.xlabel(\"Frequency (Hz)\")\n",
    "plt.ylabel(\"Output Voltage/Input Voltage\")\n",
    "plt.title(\"Frequency vs Gain (Notch filtered Micboard)\")\n",
    "plt.plot(freq, response_notch_micboard, label=\"Notch Expected\")\n",
    "plt.scatter(notch_freqs, notch_p2p_observed, label=\"Notch observed\")\n",
    "plt.legend()\n",
    "plt.show()\n",
    "\n",
    "plt.xlabel(\"Frequency (Hz)\")\n",
    "plt.ylabel(\"Output Voltage/Input Voltage\")\n",
    "plt.title(\"log-Frequency vs log-Gain (Notch filtered Micboard)\")\n",
    "plt.loglog(freq, response_notch_micboard)\n",
    "plt.scatter(notch_freqs, notch_p2p_observed)\n",
    "plt.legend()\n",
    "plt.show()"
   ]
  },
  {
   "cell_type": "markdown",
   "metadata": {},
   "source": [
    "### 2.3. Amplify the Notch-Filtered Mic Board\n",
    "1. Connect the output of the notch filter to a non-inverting amplifier/buffer depending on whether you need more gain. If you are using a non-inverting amplifier, make sure to use resistor values of $\\geq 1k \\Omega$ and to use a virtual ground of `HALF_RAIL`.\n",
    "2. Connect the output of your amplifier to a 10 $\\Omega$ resistor and LED in series.\n",
    "\n",
    "At this point, all of your filters should be fully built. Is the behavior of the three LEDs what you would expect?"
   ]
  },
  {
   "cell_type": "markdown",
   "metadata": {},
   "source": [
    "<a id='checkoff'> </a>\n",
    "\n",
    "# <span style=\"color:#ba190f\">CHECKOFF</span>\n"
   ]
  },
  {
   "cell_type": "markdown",
   "metadata": {},
   "source": [
    "### Checkoff Form (https://eecs16b.org/lab-checkoff)\n",
    "\n",
    "- **Have all questions and plots completed in this notebook.**\n",
    "\n",
    "- **Show your TA your working circuits:**\n",
    "    - Show your frequency response plots of the high-pass filter. \n",
    "    - Show your frequency response plots of the notch filter.\n",
    "    - Demonstrate working system (low-pass filter, high-pass filter, notch filter)\n",
    "\n",
    "- **Be prepared to answer conceptual questions about the lab.**\n",
    "\n",
    "\n",
    "**After checkoff, please:**\n",
    "\n",
    "- Disassemble the high-pass filter and notch filter.<span style=\"color:#ff0000\"> **DO NOT DISMANTLE ANY OTHER CIRCUITS FROM YOUR BREADBOARD! You will need them for the rest of the project!**</span> \n",
    "\n",
    "- Store all your electrical components in a neat and organized manner.\n",
    "- Make sure that all components that you received in your lab kit are stored safely for use in future labs.\n",
    "\n",
    "- Remember what each part of your circuit is for (Record this in a Google doc or somewhere else safe). You will need to write summaries for both the midterm and final lab reports!\n"
   ]
  },
  {
   "cell_type": "markdown",
   "metadata": {},
   "source": [
    "<a id='part4'></a>\n",
    "# <span style=\"color:navy\">Part 4: Midterm Lab Report Questions</span>\n",
    "-----"
   ]
  },
  {
   "cell_type": "markdown",
   "metadata": {},
   "source": [
    "The midterm lab report tests your understanding of EECS 16B Labs 1-5, with an emphasis on conceptual and\n",
    "analytical understanding. It also allows you to look at these labs from a bigger picture and reflect on your design\n",
    "process and choices. All of the midterm lab report questions have been compiled together [here](https://edstem.org/us/courses/34924/discussion/2428391). The entire midterm lab report will be due on **Friday, 03/10**."
   ]
  },
  {
   "cell_type": "markdown",
   "metadata": {},
   "source": [
    "## Questions\n",
    "\n",
    "**Summary**\n",
    "\n",
    "- Give a summary in your own words of what you did in this lab.\n",
    "\n",
    "**1. What is the cutoff frequency for a first order RC filter? What is the resonant frequency for an RLC Notch filter?** \n",
    "\n",
    "**2. Why do we place the output of our color organ filters into a non-inverting amplifier / buffer?**\n",
    "\n",
    "**3. Consider this RLC circuit. We have in series an inductor of 10uH, capacitor of 10nF, and resistor of 1kOhm. We connect the components in series respectively and probe $V_{out}$ as the voltage over the resistor.**\n",
    "- a. What do you believe the filter's characteristics are? Is it a low-pass, high-pass, notch, or neither? Explain your thinking.\n",
    "- b. Find the transfer function of this system. Leave your answer in terms of R, L, and C, and plot the magnitude response. \n",
    "- c. What is the actual shape given by the magnitude response of this filter? Was it or was it not what you initially predicted it would be? Why could that be the case? (think Q factor). \n",
    "- d. When implementing notch filters, do we want a high resistance load or a low resistance load? If we have an ideal notch filter, what are its advantages compared to a band-pass filter with cutoff frequencies that are very close to each other?"
   ]
  }
 ],
 "metadata": {
  "anaconda-cloud": {},
  "kernelspec": {
   "display_name": "Python 3",
   "language": "python",
   "name": "python3"
  },
  "language_info": {
   "codemirror_mode": {
    "name": "ipython",
    "version": 3
   },
   "file_extension": ".py",
   "mimetype": "text/x-python",
   "name": "python",
   "nbconvert_exporter": "python",
   "pygments_lexer": "ipython3",
   "version": "3.8.5"
  },
  "vscode": {
   "interpreter": {
    "hash": "aee8b7b246df8f9039afb4144a1f6fd8d2ca17a180786b69acc140d282b71a49"
   }
  }
 },
 "nbformat": 4,
 "nbformat_minor": 1
}
